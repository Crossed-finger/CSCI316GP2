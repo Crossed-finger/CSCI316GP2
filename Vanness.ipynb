{
 "cells": [
  {
   "cell_type": "code",
   "execution_count": 57,
   "metadata": {},
   "outputs": [],
   "source": [
    "import pandas as pd\n",
    "import numpy as np\n",
    "import seaborn as sns\n",
    "import matplotlib.pyplot as plt\n",
    "from pyspark.sql import SparkSession\n",
    "from pyspark.ml.feature import OneHotEncoder, VectorAssembler, StringIndexer\n",
    "from pyspark.ml import Pipeline\n",
    "\n"
   ]
  },
  {
   "cell_type": "code",
   "execution_count": 58,
   "metadata": {},
   "outputs": [],
   "source": [
    "# Load data\n",
    "df = pd.read_csv('../UNSW_NB15_testing-set.csv')"
   ]
  },
  {
   "cell_type": "markdown",
   "metadata": {},
   "source": [
    "## Pre-processing data"
   ]
  },
  {
   "cell_type": "code",
   "execution_count": 59,
   "metadata": {},
   "outputs": [],
   "source": [
    "# Initialize a Spark session\n",
    "spark = SparkSession.builder \\\n",
    "    .appName(\"MySparkApp\") \\\n",
    "    .getOrCreate()\n",
    "\n",
    "# Sample DataFrame df\n",
    "columns = [\"id\", \"dur\", \"proto\", \"service\", \"state\", \"spkts\", \"dpkts\", \"sbytes\", \"dbytes\",\n",
    "           \"rate\", \"sttl\", \"dttl\", \"sload\", \"dload\", \"sloss\", \"dloss\", \"sinpkt\", \"dinpkt\",\n",
    "           \"sjit\", \"djit\", \"swin\", \"stcpb\", \"dtcpb\", \"dwin\", \"tcprtt\", \"synack\", \"ackdat\",\n",
    "           \"smean\", \"dmean\", \"trans_depth\", \"response_body_len\", \"ct_srv_src\", \"ct_state_ttl\",\n",
    "           \"ct_dst_ltm\", \"ct_src_dport_ltm\", \"ct_dst_sport_ltm\", \"ct_dst_src_ltm\", \"is_ftp_login\",\n",
    "           \"ct_ftp_cmd\", \"ct_flw_http_mthd\", \"ct_src_ltm\", \"ct_srv_dst\", \"is_sm_ips_ports\",\n",
    "           \"attack_cat\", \"label\"]\n",
    "df = spark.createDataFrame(df, columns)\n"
   ]
  },
  {
   "cell_type": "code",
   "execution_count": 60,
   "metadata": {},
   "outputs": [],
   "source": [
    "# # List of columns to index\n",
    "# columns_to_index = [\"proto\", \"service\", \"state\", \"attack_cat\"]\n",
    "\n",
    "# # Create a list of StringIndexer stages for each column\n",
    "# indexers = [StringIndexer(inputCol=col, outputCol=col + \"_index\") for col in columns_to_index]\n",
    "\n",
    "# # Create a pipeline\n",
    "# pipeline = Pipeline(stages=indexers)\n",
    "\n",
    "# # Fit and transform the data\n",
    "# indexed_df = pipeline.fit(df).transform(df)\n",
    "\n",
    "# # Replace the original columns with their respective indexed columns\n",
    "# for col in columns_to_index:\n",
    "#     indexed_col = col + \"_index\"\n",
    "#     df = indexed_df.drop(col).withColumnRenamed(indexed_col, col)\n",
    "\n"
   ]
  },
  {
   "cell_type": "code",
   "execution_count": 61,
   "metadata": {},
   "outputs": [],
   "source": [
    "# Create a StringIndexer for the 'proto' column\n",
    "proto_indexer = StringIndexer(inputCol=\"proto\", outputCol=\"protoIndex\")\n",
    "\n",
    "# Fit and transform the data\n",
    "proto_indexed = proto_indexer.fit(df).transform(df)\n",
    "\n",
    "# Replace the 'proto' column with 'protoIndex' column\n",
    "df = proto_indexed.drop(\"proto\").withColumnRenamed(\"protoIndex\", \"proto\")\n",
    "\n",
    "# Convert PySpark DataFrame to Pandas DataFrame\n",
    "proto_pandas = proto_indexed.toPandas()\n"
   ]
  },
  {
   "cell_type": "code",
   "execution_count": 62,
   "metadata": {},
   "outputs": [],
   "source": [
    "# Create a StringIndexer for the 'proto' column\n",
    "service_indexer = StringIndexer(inputCol=\"service\", outputCol=\"serviceIndex\")\n",
    "\n",
    "# Fit and transform the data\n",
    "service_indexed = service_indexer.fit(df).transform(df)\n",
    "\n",
    "# Replace the 'proto' column with 'protoIndex' column\n",
    "df = service_indexed.drop(\"service\").withColumnRenamed(\"serviceIndex\", \"service\")\n",
    "\n",
    "# Convert PySpark DataFrame to Pandas DataFrame\n",
    "service_pandas = service_indexed.toPandas()\n"
   ]
  },
  {
   "cell_type": "code",
   "execution_count": 63,
   "metadata": {},
   "outputs": [],
   "source": [
    "# Create a StringIndexer for the 'state' column\n",
    "state_indexer = StringIndexer(inputCol=\"state\", outputCol=\"stateIndex\")\n",
    "\n",
    "# Fit and transform the data\n",
    "state_indexed = state_indexer.fit(df).transform(df)\n",
    "\n",
    "# Replace the 'state' column with 'stateIndex' column\n",
    "df = state_indexed.drop(\"state\").withColumnRenamed(\"stateIndex\", \"state\")\n",
    "\n",
    "# Convert PySpark DataFrame to Pandas DataFrame\n",
    "state_pandas = state_indexed.toPandas()\n"
   ]
  },
  {
   "cell_type": "code",
   "execution_count": 64,
   "metadata": {},
   "outputs": [],
   "source": [
    "# Create a StringIndexer for the 'attack_cat' column\n",
    "attack_cat_indexer = StringIndexer(inputCol=\"attack_cat\", outputCol=\"attack_catIndex\")\n",
    "\n",
    "# Fit and transform the data\n",
    "attack_cat_indexed = attack_cat_indexer.fit(df).transform(df)\n",
    "\n",
    "# Replace the 'attack_cat' column with 'attack_catIndex' column\n",
    "df = attack_cat_indexed.drop(\"attack_cat\").withColumnRenamed(\"attack_catIndex\", \"attack_cat\")\n",
    "\n",
    "# Convert PySpark DataFrame to Pandas DataFrame\n",
    "attack_cat_pandas = attack_cat_indexed.toPandas()\n"
   ]
  },
  {
   "cell_type": "code",
   "execution_count": 66,
   "metadata": {},
   "outputs": [
    {
     "name": "stdout",
     "output_type": "stream",
     "text": [
      "+---+--------+-----+-------+-----+-----+-----+------+------+-----------+----+----+-----------+-----------+-----+-----+----------+----------+-----------+-----------+----+----------+----------+----+--------+--------+--------+-----+-----+-----------+-----------------+----------+------------+----------+----------------+----------------+--------------+------------+----------+----------------+----------+----------+---------------+----------+\n",
      "| id|     dur|proto|service|state|spkts|dpkts|sbytes|dbytes|       rate|sttl|dttl|      sload|      dload|sloss|dloss|    sinpkt|    dinpkt|       sjit|       djit|swin|     stcpb|     dtcpb|dwin|  tcprtt|  synack|  ackdat|smean|dmean|trans_depth|response_body_len|ct_srv_src|ct_state_ttl|ct_dst_ltm|ct_src_dport_ltm|ct_dst_sport_ltm|ct_dst_src_ltm|is_ftp_login|ct_ftp_cmd|ct_flw_http_mthd|ct_src_ltm|ct_srv_dst|is_sm_ips_ports|attack_cat|\n",
      "+---+--------+-----+-------+-----+-----+-----+------+------+-----------+----+----+-----------+-----------+-----+-----+----------+----------+-----------+-----------+----+----------+----------+----+--------+--------+--------+-----+-----+-----------+-----------------+----------+------------+----------+----------------+----------------+--------------+------------+----------+----------------+----------+----------+---------------+----------+\n",
      "|  1|0.121478|  0.0|    0.0|  1.0|    6|    4|   258|   172|   74.08749| 252| 254|14158.94238|8495.365234|    0|    0|   24.2956|     8.375|  30.177547|  11.830604| 255| 621772692|2202533631| 255|     0.0|     0.0|     0.0|   43|   43|          0|                0|         1|           0|         1|               1|               1|             1|           0|         0|               0|         1|         1|              0|       0.0|\n",
      "|  2|0.649902|  0.0|    0.0|  1.0|   14|   38|   734| 42014|  78.473372|  62| 252|8395.112305|503571.3125|    2|   17|    49.915| 15.432865|  61.426934| 1387.77833| 255|1417884146|3077387971| 255|     0.0|     0.0|     0.0|   52| 1106|          0|                0|        43|           1|         1|               1|               1|             2|           0|         0|               0|         1|         6|              0|       0.0|\n",
      "|  3|1.623129|  0.0|    0.0|  1.0|    8|   16|   364| 13186|  14.170161|  62| 252|1572.271851|60929.23047|    1|    6|231.875571|102.737203|17179.58686|11420.92623| 255|2116150707|2963114973| 255|0.111897|0.061458|0.050439|   46|  824|          0|                0|         7|           1|         2|               1|               1|             3|           0|         0|               0|         2|         6|              0|       0.0|\n",
      "|  4|1.681642|  0.0|    5.0|  1.0|   12|   12|   628|   770|  13.677108|  62| 252|2740.178955| 3358.62207|    1|    3|152.876547| 90.235726| 259.080172|4991.784669| 255|1107119177|1047442890| 255|     0.0|     0.0|     0.0|   52|   64|          0|                0|         1|           1|         2|               1|               1|             3|           1|         1|               0|         2|         1|              0|       0.0|\n",
      "|  5|0.449454|  0.0|    0.0|  1.0|   10|    6|   534|   268|  33.373826| 254| 252|8561.499023|3987.059814|    2|    1| 47.750333| 75.659602|2415.837634|    115.807| 255|2436137549|1977154190| 255|0.128381|0.071147|0.057234|   53|   45|          0|                0|        43|           1|         2|               2|               1|            40|           0|         0|               0|         2|        39|              0|       0.0|\n",
      "|  6|0.380537|  0.0|    0.0|  1.0|   10|    6|   534|   268|   39.41798| 254| 252|10112.02539|4709.134766|    2|    1| 39.928778|    52.241|2223.730342|    82.5505| 255|3984155503|1796040391| 255|0.172934|0.119331|0.053603|   53|   45|          0|                0|        43|           1|         2|               2|               1|            40|           0|         0|               0|         2|        39|              0|       0.0|\n",
      "|  7|0.637109|  0.0|    0.0|  1.0|   10|    8|   534|   354|  26.683033| 254| 252|6039.783203| 3892.58374|    2|    1| 68.267778| 81.137711| 4286.82857| 119.422719| 255|1787309226|1767180493| 255|0.143337|0.069136|0.074201|   53|   44|          0|                0|        43|           1|         1|               1|               1|            40|           0|         0|               0|         1|        39|              0|       0.0|\n",
      "|  8|0.521584|  0.0|    0.0|  1.0|   10|    8|   534|   354|  32.593026| 254| 252|7377.527344| 4754.74707|    2|    1|    55.794| 66.054141|3770.580726| 118.962633| 255| 205985702| 316006300| 255|0.116615|0.059195| 0.05742|   53|   44|          0|                0|        43|           1|         3|               3|               1|            40|           0|         0|               0|         3|        39|              0|       0.0|\n",
      "|  9|0.542905|  0.0|    0.0|  1.0|   10|    8|   534|   354|  31.313031| 254| 252|7087.796387|4568.018555|    2|    1| 60.210889|    68.109|4060.625597| 106.611547| 255| 884094874|3410317203| 255|0.118584|0.066133|0.052451|   53|   44|          0|                0|        43|           1|         3|               3|               1|            40|           0|         0|               0|         3|        39|              0|       0.0|\n",
      "| 10|0.258687|  0.0|    0.0|  1.0|   10|    6|   534|   268|  57.985135| 254| 252|14875.12012|6927.291016|    2|    1| 27.505111| 39.106801|1413.686415|  57.200395| 255|3368447996| 584859215| 255|0.087934|0.063116|0.024818|   53|   45|          0|                0|        43|           1|         3|               3|               1|            40|           0|         0|               0|         3|        39|              0|       0.0|\n",
      "| 11|0.304853|  0.0|    0.0|  1.0|   12|    6|  4142|   268|  55.764583| 254| 252|99641.46875|5878.243164|    3|    1| 25.948818| 53.668801|1471.649189|  80.404844| 255| 137150292|2604092885| 255|0.097761|0.036508|0.061253|  345|   45|          0|                0|        11|           1|         1|               1|               1|             3|           0|         0|               0|         1|         6|              0|       0.0|\n",
      "| 12|2.093085|  0.0|    3.0|  1.0|   62|   28| 56329|  2212|  42.520967|  62| 252| 211825.125|8152.559082|   28|    8| 34.312868| 75.092445|3253.278833| 106.113453| 255|1824722662| 860716719| 255| 0.13114|0.052852|0.078288|  909|   79|          0|                0|         2|           1|         1|               1|               1|             2|           0|         0|               0|         1|         1|              0|       0.0|\n",
      "| 13|0.416952|  0.0|    0.0|  1.0|   10|    6|   534|   268|  35.975363| 254| 252|9228.879883|4297.856445|    2|    1| 45.088778| 64.481199|2610.908343|  99.860875| 255|  88408021|3711983528| 255|0.220976|0.094537|0.126439|   53|   45|          0|                0|        43|           1|         1|               1|               1|            40|           0|         0|               0|         1|        39|              0|       0.0|\n",
      "| 14|0.996221|  0.0|    0.0|  1.0|   10|    8|   564|   354|  17.064487| 254| 252|4079.416016|2489.407471|    2|    1|110.691222|    131.48|6542.815197| 202.433047| 255|2321780530|2975132930| 255|0.169226| 0.07516|0.094066|   56|   44|          0|                0|        11|           1|         1|               1|               1|             3|           0|         0|               0|         2|         3|              0|       0.0|\n",
      "| 15|0.576755|  0.0|    0.0|  1.0|   10|    8|   534|   354|  29.475254| 254| 252|6671.810547|4299.919434|    2|    1| 64.083889|  72.27157|4194.544962| 116.493234| 255|3772251972|4281731981| 255|0.113311|0.050849|0.062462|   53|   44|          0|                0|        43|           1|         1|               1|               1|            40|           0|         0|               0|         1|        39|              0|       0.0|\n",
      "| 16|  2.0E-6|  1.0|    9.0|  0.0|    2|    0|   138|     0|500000.0013| 254|   0|     2.76E8|        0.0|    0|    0|     0.002|       0.0|        0.0|        0.0|   0|         0|         0|   0|     0.0|     0.0|     0.0|   69|    0|          0|                0|         1|           2|         1|               1|               1|             4|           0|         0|               0|         2|         1|              0|       0.0|\n",
      "| 17|0.728252|  0.0|    0.0|  1.0|   10|    6|   534|   268|  20.597266| 254| 252|5283.885254|2460.686768|    2|    1| 80.916889|122.462203|5333.802207| 231.801797| 255|1735938977|4242381139| 255|0.134571|0.079982|0.054589|   53|   45|          0|                0|        43|           1|         2|               2|               1|            40|           0|         0|               0|         2|        39|              0|       0.0|\n",
      "| 18|0.393556|  0.0|    2.0|  1.0|   10|    8|   860|  1096|  43.195886|  62| 252|15733.46582|19494.04883|    2|    2| 43.728444| 47.669145|2124.837873|  71.805867| 255|3882971404|3084071099| 255|0.120313|0.059201|0.061112|   86|  137|          1|              103|         3|           1|         1|               1|               1|             2|           0|         0|               1|         1|         3|              0|       0.0|\n",
      "| 19|0.387852|  0.0|    0.0|  1.0|   10|    6|   534|   268|  38.674545| 254| 252| 9921.30957|4620.318848|    2|    1| 38.119667| 68.279203|2226.182762| 105.440859| 255| 527350728|2602577308| 255|0.115979|0.046445|0.069534|   53|   45|          0|                0|        43|           1|         2|               2|               1|            40|           0|         0|               0|         2|        39|              0|       0.0|\n",
      "| 20| 0.53784|  0.0|    0.0|  1.0|   10|    8|   534|   354|  31.607913| 254| 252|7154.543945|4611.036621|    2|    1| 59.669444| 68.351859|3893.395914| 104.835672| 255|1082242371| 490886647| 255|0.114569|0.059368|0.055201|   53|   44|          0|                0|        43|           1|         2|               2|               1|            40|           0|         0|               0|         2|        39|              0|       0.0|\n",
      "+---+--------+-----+-------+-----+-----+-----+------+------+-----------+----+----+-----------+-----------+-----+-----+----------+----------+-----------+-----------+----+----------+----------+----+--------+--------+--------+-----+-----+-----------+-----------------+----------+------------+----------+----------------+----------------+--------------+------------+----------+----------------+----------+----------+---------------+----------+\n",
      "only showing top 20 rows\n",
      "\n"
     ]
    }
   ],
   "source": [
    "# Drop label and arrage the columns back in order\n",
    "columns = [\"id\", \"dur\", \"proto\", \"service\", \"state\", \"spkts\", \"dpkts\", \"sbytes\", \"dbytes\",\n",
    "           \"rate\", \"sttl\", \"dttl\", \"sload\", \"dload\", \"sloss\", \"dloss\", \"sinpkt\", \"dinpkt\",\n",
    "           \"sjit\", \"djit\", \"swin\", \"stcpb\", \"dtcpb\", \"dwin\", \"tcprtt\", \"synack\", \"ackdat\",\n",
    "           \"smean\", \"dmean\", \"trans_depth\", \"response_body_len\", \"ct_srv_src\", \"ct_state_ttl\",\n",
    "           \"ct_dst_ltm\", \"ct_src_dport_ltm\", \"ct_dst_sport_ltm\", \"ct_dst_src_ltm\", \"is_ftp_login\",\n",
    "           \"ct_ftp_cmd\", \"ct_flw_http_mthd\", \"ct_src_ltm\", \"ct_srv_dst\", \"is_sm_ips_ports\",\n",
    "           \"attack_cat\"]\n",
    "df = df.select(columns)\n",
    "\n",
    "# Show data\n",
    "df.show()"
   ]
  }
 ],
 "metadata": {
  "kernelspec": {
   "display_name": "pyspark_env",
   "language": "python",
   "name": "python3"
  },
  "language_info": {
   "codemirror_mode": {
    "name": "ipython",
    "version": 3
   },
   "file_extension": ".py",
   "mimetype": "text/x-python",
   "name": "python",
   "nbconvert_exporter": "python",
   "pygments_lexer": "ipython3",
   "version": "3.11.4"
  },
  "orig_nbformat": 4
 },
 "nbformat": 4,
 "nbformat_minor": 2
}
